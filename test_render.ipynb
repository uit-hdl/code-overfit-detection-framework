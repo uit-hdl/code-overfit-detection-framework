{
 "cells": [
  {
   "cell_type": "code",
   "execution_count": 16,
   "id": "initial_id",
   "metadata": {
    "collapsed": true,
    "ExecuteTime": {
     "end_time": "2023-10-25T13:04:40.264778Z",
     "start_time": "2023-10-25T13:04:40.144819100Z"
    }
   },
   "outputs": [],
   "source": [
    "import numpy as np\n",
    "import pandas as pd\n",
    "from bokeh.plotting import save, figure, show\n",
    "import matplotlib.pyplot as plt"
   ]
  },
  {
   "cell_type": "code",
   "execution_count": 86,
   "outputs": [
    {
     "name": "stdout",
     "output_type": "stream",
     "text": [
      "[1.   1.75 2.5  3.25 4.  ]\n"
     ]
    }
   ],
   "source": [
    "labels = pd.Series(['green', 'blue', 'green', 'blue'])\n",
    "points = np.array([[1,1],[4,4],[1,1],[1,1]])\n",
    "\n",
    "data = pd.DataFrame(points, columns=(\"x\", \"y\"))\n",
    "data[\"label\"] = labels\n",
    "unique_labels = np.unique(labels)\n",
    "num_labels = unique_labels.shape[0]\n",
    "hhist, hedges = np.histogram(points[:, 0], bins=4)\n",
    "print(hedges)"
   ],
   "metadata": {
    "collapsed": false,
    "ExecuteTime": {
     "end_time": "2023-10-26T19:04:21.195164800Z",
     "start_time": "2023-10-26T19:04:21.063865800Z"
    }
   },
   "id": "c90422c213988929"
  },
  {
   "cell_type": "code",
   "execution_count": 78,
   "outputs": [
    {
     "name": "stdout",
     "output_type": "stream",
     "text": [
      "0    1\n",
      "2    1\n",
      "Name: x, dtype: int32\n",
      "1    2\n",
      "3    1\n",
      "Name: x, dtype: int32\n"
     ]
    },
    {
     "data": {
      "text/plain": "(array([[2., 0., 0., 0., 0., 0., 0., 0., 0., 0.],\n        [3., 0., 0., 0., 0., 0., 0., 0., 0., 1.]]),\n array([1. , 1.1, 1.2, 1.3, 1.4, 1.5, 1.6, 1.7, 1.8, 1.9, 2. ]),\n <a list of 2 BarContainer objects>)"
     },
     "execution_count": 78,
     "metadata": {},
     "output_type": "execute_result"
    },
    {
     "data": {
      "text/plain": "<Figure size 640x480 with 1 Axes>",
      "image/png": "[encoded data removed]"
     },
     "metadata": {},
     "output_type": "display_data"
    }
   ],
   "source": [
    "#plt.hist([data[\"g\"]])\n",
    "gre = data[data[\"label\"] == \"green\"][\"x\"]\n",
    "blu = data[data[\"label\"] == \"blue\"][\"x\"]\n",
    "print(gre)\n",
    "print(blu)\n",
    "np.histogram(gre, bins=hedges)\n",
    "plt.hist([gre, blu], bins=hedges, stacked=True)"
   ],
   "metadata": {
    "collapsed": false,
    "ExecuteTime": {
     "end_time": "2023-10-26T18:57:45.120964400Z",
     "start_time": "2023-10-26T18:57:44.734567300Z"
    }
   },
   "id": "d37d06d548ed47b1"
  },
  {
   "cell_type": "code",
   "execution_count": 93,
   "outputs": [
    {
     "name": "stdout",
     "output_type": "stream",
     "text": [
      "{'hedges': ['1.0', '1.75', '2.5', '3.25', '4.0'], 'blue': array([1, 0, 0, 1], dtype=int64), 'green': array([2, 0, 0, 0], dtype=int64)}\n"
     ]
    },
    {
     "name": "stderr",
     "output_type": "stream",
     "text": [
      "BokehUserWarning: ColumnDataSource's columns must be of the same length. Current lengths: ('blue', 4), ('green', 4), ('hedges', 5)\n",
      "BokehUserWarning: ColumnDataSource's columns must be of the same length. Current lengths: ('blue', 4), ('green', 4), ('hedges', 5)\n"
     ]
    }
   ],
   "source": [
    "from bokeh.palettes import HighContrast3, HighContrast, Category20\n",
    "\n",
    "bucket_ref = list(map(str, hedges))\n",
    "\n",
    "plot_data = { 'hedges': bucket_ref }\n",
    "for l in unique_labels:\n",
    "    plot_data[l] = np.histogram(data[data[\"label\"] == l][\"x\"], bins=hedges)[0]\n",
    "\n",
    "print(plot_data)    \n",
    "    \n",
    "#               \"green\": [gre_hist[0][0], gre_hist[1][0]],\n",
    "#               \"blue\": [blu_hist[0][0], blu_hist[1][0]],\n",
    "#               }\n",
    "# print(plot_data)\n",
    "ph = figure(x_range=bucket_ref)\n",
    "ph.vbar_stack([\"green\", \"blue\"], source=plot_data, x='hedges', color=HighContrast3[:2])\n",
    "show(ph)"
   ],
   "metadata": {
    "collapsed": false,
    "ExecuteTime": {
     "end_time": "2023-10-26T19:09:54.783051100Z",
     "start_time": "2023-10-26T19:09:54.552702700Z"
    }
   },
   "id": "d65da174861bf835"
  },
  {
   "cell_type": "code",
   "execution_count": 110,
   "outputs": [
    {
     "name": "stdout",
     "output_type": "stream",
     "text": [
      "          x         y slide\n",
      "0  0.974407  1.348548     a\n",
      "1 -0.380302  0.323523     b\n",
      "2 -0.473860  1.358187     c\n",
      "{'hedges': ['-9.112878', '-7.1712003', '-5.2295227', '-3.287845', '-1.3461672', '0.5955105', '2.537188', '4.4788656', '6.4205437', '8.362221'], 'a': array([0, 0, 0, 0, 0, 1, 0, 0, 0, 0], dtype=int64), 'b': array([0, 0, 0, 0, 1, 0, 0, 0, 0, 0], dtype=int64), 'c': array([0, 0, 0, 0, 1, 0, 0, 0, 0, 0], dtype=int64)}\n",
      "['a', 'b', 'c']\n"
     ]
    }
   ],
   "source": [
    "unique_labels = [\"a\", \"b\", \"c\"]\n",
    "hedges = [-9.112878,  -7.1712003, -5.2295227, -3.287845,  -1.3461672,  0.5955105,  2.537188,   4.4788656,  6.4205437,  8.362221,  10.303899 ]\n",
    "bucket_ref = list(map(str, hedges))[:-1]\n",
    "plot_ref = {'hedges': bucket_ref}\n",
    "plot_data = pd.DataFrame(np.random.randn(3, 3), columns=(\"x\", \"y\", \"slide\"))\n",
    "plot_data[\"slide\"] = unique_labels\n",
    "print(plot_data)\n",
    "for l in unique_labels:\n",
    "    plot_ref[str(l)] = np.histogram(plot_data[plot_data[\"slide\"] == l][\"x\"], bins=hedges)[0]\n",
    "print(plot_ref)\n",
    "#ph = figure(x_range=bucket_ref)\n",
    "ph = figure(x_range=bucket_ref)\n",
    "print(list(map(str, unique_labels)))\n",
    "ph.vbar_stack(list(map(str, unique_labels)), source=plot_ref, x='hedges')\n",
    "show(ph)\n"
   ],
   "metadata": {
    "collapsed": false,
    "ExecuteTime": {
     "end_time": "2023-10-26T20:00:13.491927500Z",
     "start_time": "2023-10-26T20:00:13.284008300Z"
    }
   },
   "id": "6d232138e523021a"
  },
  {
   "cell_type": "code",
   "execution_count": null,
   "outputs": [],
   "source": [],
   "metadata": {
    "collapsed": false
   },
   "id": "4badf55fb7dff68e"
  },
  {
   "cell_type": "code",
   "execution_count": 33,
   "outputs": [
    {
     "name": "stdout",
     "output_type": "stream",
     "text": [
      "[[ 0.51764541  0.68070501  1.09358682]\n",
      " [-0.12393542 -0.26226133  1.40147339]\n",
      " [-1.23309417 -0.39785245  1.80755962]\n",
      " [-0.22570127 -0.5150061  -0.45501417]\n",
      " [-0.26882336  0.41354937  2.54799831]\n",
      " [ 1.05410696  0.31189151  0.86711871]\n",
      " [-0.28658549 -0.14553382  0.80177693]\n",
      " [ 0.76363031  1.33939638 -0.12644264]\n",
      " [-0.40224441 -0.74185747 -0.72805732]\n",
      " [ 0.12092146 -0.59749541  1.10168186]]\n"
     ]
    },
    {
     "data": {
      "text/plain": "(array([[ 1.,  0.,  5.,  1.,  1.,  1.,  1.,  0.,  0.,  0.],\n        [ 1.,  3.,  8.,  1.,  3.,  2.,  2.,  0.,  0.,  0.],\n        [ 1.,  4., 10.,  1.,  3.,  4.,  5.,  0.,  1.,  1.]]),\n array([-1.23309417, -0.85498492, -0.47687568, -0.09876643,  0.27934282,\n         0.65745207,  1.03556132,  1.41367056,  1.79177981,  2.16988906,\n         2.54799831]),\n <a list of 3 BarContainer objects>)"
     },
     "execution_count": 33,
     "metadata": {},
     "output_type": "execute_result"
    },
    {
     "data": {
      "text/plain": "<Figure size 640x480 with 1 Axes>",
      "image/png": "[encoded data removed]"
     },
     "metadata": {},
     "output_type": "display_data"
    }
   ],
   "source": [
    "x = np.random.randn(10, 3)\n",
    "print(x)\n",
    "plt.hist(x, bins=10, stacked=True)"
   ],
   "metadata": {
    "collapsed": false,
    "ExecuteTime": {
     "end_time": "2023-10-25T13:25:16.602919500Z",
     "start_time": "2023-10-25T13:25:16.402181Z"
    }
   },
   "id": "5116f871ac70148b"
  }
 ],
 "metadata": {
  "kernelspec": {
   "display_name": "Python 3",
   "language": "python",
   "name": "python3"
  },
  "language_info": {
   "codemirror_mode": {
    "name": "ipython",
    "version": 2
   },
   "file_extension": ".py",
   "mimetype": "text/x-python",
   "name": "python",
   "nbconvert_exporter": "python",
   "pygments_lexer": "ipython2",
   "version": "2.7.6"
  }
 },
 "nbformat": 4,
 "nbformat_minor": 5
}
